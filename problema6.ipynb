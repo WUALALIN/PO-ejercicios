{
 "cells": [
  {
   "cell_type": "markdown",
   "id": "f81c0f95",
   "metadata": {},
   "source": [
    "# Problema6 Agenda.Ipynb"
   ]
  },
  {
   "cell_type": "code",
   "execution_count": null,
   "id": "c645d02e",
   "metadata": {},
   "outputs": [],
   "source": [
    "\n",
    "class Contacto:\n",
    "    def __init__(self, nombre, telefono):\n",
    "        self.nombre = nombre\n",
    "        self.telefono = telefono\n",
    "\n",
    "\n",
    "class Agenda:\n",
    "    def __init__(self):\n",
    "        self.contactos = []\n",
    "\n",
    "    def agregar_contacto(self, contacto):\n",
    "        self.contactos.append(contacto)\n",
    "\n",
    "    def buscar_contacto(self, nombre):\n",
    "        return [c.telefono for c in self.contactos if c.nombre == nombre]\n"
   ]
  }
 ],
 "metadata": {},
 "nbformat": 4,
 "nbformat_minor": 5
}