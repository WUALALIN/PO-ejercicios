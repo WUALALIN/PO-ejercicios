{
 "cells": [
  {
   "cell_type": "markdown",
   "id": "f10d73da",
   "metadata": {},
   "source": [
    "# Problema8 Mensajes.Ipynb"
   ]
  },
  {
   "cell_type": "code",
   "execution_count": null,
   "id": "4919ed10",
   "metadata": {},
   "outputs": [],
   "source": [
    "\n",
    "class Usuario:\n",
    "    def __init__(self, nombre):\n",
    "        self.nombre = nombre\n",
    "        self.mensajes = []\n",
    "\n",
    "    def enviar_mensaje(self, destino, contenido):\n",
    "        destino.mensajes.append((self.nombre, contenido))\n",
    "\n",
    "    def leer_mensajes(self):\n",
    "        return self.mensajes\n"
   ]
  }
 ],
 "metadata": {},
 "nbformat": 4,
 "nbformat_minor": 5
}