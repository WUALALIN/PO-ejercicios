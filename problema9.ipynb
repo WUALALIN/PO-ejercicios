{
 "cells": [
  {
   "cell_type": "markdown",
   "id": "cb3ec08d",
   "metadata": {},
   "source": [
    "# Problema9 Inventario.Ipynb"
   ]
  },
  {
   "cell_type": "code",
   "execution_count": null,
   "id": "4bba64c5",
   "metadata": {},
   "outputs": [],
   "source": [
    "\n",
    "class ProductoInventario:\n",
    "    def __init__(self, nombre, cantidad):\n",
    "        self.nombre = nombre\n",
    "        self.cantidad = cantidad\n",
    "\n",
    "\n",
    "class Inventario:\n",
    "    def __init__(self):\n",
    "        self.productos = {}\n",
    "\n",
    "    def agregar_producto(self, producto):\n",
    "        if producto.nombre in self.productos:\n",
    "            self.productos[producto.nombre].cantidad += producto.cantidad\n",
    "        else:\n",
    "            self.productos[producto.nombre] = producto\n",
    "\n",
    "    def consultar_stock(self, nombre):\n",
    "        if nombre in self.productos:\n",
    "            return self.productos[nombre].cantidad\n",
    "        return 0\n"
   ]
  }
 ],
 "metadata": {},
 "nbformat": 4,
 "nbformat_minor": 5
}