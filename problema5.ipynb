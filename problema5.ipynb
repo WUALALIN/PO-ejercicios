{
 "cells": [
  {
   "cell_type": "markdown",
   "id": "d0801ae9",
   "metadata": {},
   "source": [
    "# Problema5 Evaluacion.Py"
   ]
  },
  {
   "cell_type": "code",
   "execution_count": null,
   "id": "912ada90",
   "metadata": {},
   "outputs": [],
   "source": [
    "\n",
    "class Examen:\n",
    "    def __init__(self, tema, nota):\n",
    "        if 1.0 <= nota <= 7.0:\n",
    "            self.tema = tema\n",
    "            self.nota = nota\n",
    "        else:\n",
    "            raise ValueError(\"La nota debe estar entre 1.0 y 7.0\")\n",
    "\n",
    "\n",
    "class EstudianteEvaluado:\n",
    "    def __init__(self, nombre):\n",
    "        self.nombre = nombre\n",
    "        self.examenes = []\n",
    "\n",
    "    def agregar_examen(self, examen):\n",
    "        self.examenes.append(examen)\n",
    "\n",
    "    def calcular_promedio(self):\n",
    "        if not self.examenes:\n",
    "            return 0\n",
    "        return sum(e.nota for e in self.examenes) / len(self.examenes)\n",
    "\n",
    "    def mostrar_examenes(self):\n",
    "        for e in self.examenes:\n",
    "            print(f\"{e.tema}: {e.nota}\")\n"
   ]
  }
 ],
 "metadata": {},
 "nbformat": 4,
 "nbformat_minor": 5
}