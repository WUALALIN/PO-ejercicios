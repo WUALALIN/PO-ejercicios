{
 "cells": [
  {
   "cell_type": "markdown",
   "id": "315cfa19",
   "metadata": {},
   "source": [
    "# Problema10 Nomina.Ipynb"
   ]
  },
  {
   "cell_type": "code",
   "execution_count": null,
   "id": "3e332485",
   "metadata": {},
   "outputs": [],
   "source": [
    "\n",
    "class Empleado:\n",
    "    def __init__(self, nombre, salario_base):\n",
    "        self.nombre = nombre\n",
    "        self.salario_base = salario_base\n",
    "\n",
    "    def calcular_pago(self):\n",
    "        return self.salario_base\n",
    "\n",
    "\n",
    "class EmpleadoConBono(Empleado):\n",
    "    def __init__(self, nombre, salario_base, bono):\n",
    "        super().__init__(nombre, salario_base)\n",
    "        self.bono = bono\n",
    "\n",
    "    def calcular_pago(self):\n",
    "        return self.salario_base + self.bono\n",
    "\n",
    "\n",
    "class Nomina:\n",
    "    def __init__(self):\n",
    "        self.empleados = []\n",
    "\n",
    "    def agregar_empleado(self, empleado):\n",
    "        self.empleados.append(empleado)\n",
    "\n",
    "    def calcular_nomina_total(self):\n",
    "        return sum(e.calcular_pago() for e in self.empleados)\n"
   ]
  }
 ],
 "metadata": {},
 "nbformat": 4,
 "nbformat_minor": 5
}