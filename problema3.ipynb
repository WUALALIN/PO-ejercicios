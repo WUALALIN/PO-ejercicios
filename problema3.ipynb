{
 "cells": [
  {
   "cell_type": "markdown",
   "id": "55de551c",
   "metadata": {},
   "source": [
    "# Problema3 Inscripciones.Py"
   ]
  },
  {
   "cell_type": "code",
   "execution_count": null,
   "id": "e974e731",
   "metadata": {},
   "outputs": [],
   "source": [
    "\n",
    "class Estudiante:\n",
    "    def __init__(self, nombre):\n",
    "        self.nombre = nombre\n",
    "        self.cursos = []\n",
    "\n",
    "    def inscribirse(self, curso):\n",
    "        if curso not in self.cursos:\n",
    "            self.cursos.append(curso)\n",
    "            curso.inscribir_estudiante(self)\n",
    "\n",
    "\n",
    "class Curso:\n",
    "    def __init__(self, nombre):\n",
    "        self.nombre = nombre\n",
    "        self.inscritos = []\n",
    "\n",
    "    def inscribir_estudiante(self, estudiante):\n",
    "        if estudiante not in self.inscritos:\n",
    "            self.inscritos.append(estudiante)\n"
   ]
  }
 ],
 "metadata": {},
 "nbformat": 4,
 "nbformat_minor": 5
}