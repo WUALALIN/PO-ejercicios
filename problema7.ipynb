{
 "cells": [
  {
   "cell_type": "markdown",
   "id": "6bfa31c8",
   "metadata": {},
   "source": [
    "# Problema7 Pedido.Ipynb"
   ]
  },
  {
   "cell_type": "code",
   "execution_count": null,
   "id": "df746d2d",
   "metadata": {},
   "outputs": [],
   "source": [
    "\n",
    "class Producto:\n",
    "    def __init__(self, nombre, precio):\n",
    "        self.nombre = nombre\n",
    "        self.precio = precio\n",
    "\n",
    "\n",
    "class Pedido:\n",
    "    def __init__(self):\n",
    "        self.productos = []\n",
    "\n",
    "    def agregar_producto(self, producto):\n",
    "        self.productos.append(producto)\n",
    "\n",
    "    def total_pedido(self):\n",
    "        return sum(p.precio for p in self.productos)\n",
    "\n",
    "    def resumen(self):\n",
    "        for p in self.productos:\n",
    "            print(f\"{p.nombre}: ${p.precio}\")\n",
    "        print(f\"Total: ${self.total_pedido()}\")\n"
   ]
  }
 ],
 "metadata": {},
 "nbformat": 4,
 "nbformat_minor": 5
}