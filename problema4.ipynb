{
 "cells": [
  {
   "cell_type": "markdown",
   "id": "0a18a110",
   "metadata": {},
   "source": [
    "# Problema4 Cajero.Py"
   ]
  },
  {
   "cell_type": "code",
   "execution_count": null,
   "id": "37476775",
   "metadata": {},
   "outputs": [],
   "source": [
    "\n",
    "class CuentaBancaria:\n",
    "    def __init__(self, numero, saldo):\n",
    "        self.numero = numero\n",
    "        self.saldo = saldo\n",
    "\n",
    "    def retirar(self, monto):\n",
    "        if monto <= self.saldo:\n",
    "            self.saldo -= monto\n",
    "            return True\n",
    "        return False\n",
    "\n",
    "\n",
    "class Cajero:\n",
    "    def retirar_dinero(self, cuenta, monto):\n",
    "        if cuenta.retirar(monto):\n",
    "            return f\"Retiro exitoso. Saldo actual: ${cuenta.saldo}\"\n",
    "        else:\n",
    "            return \"Fondos insuficientes\"\n",
    "\n",
    "    def mostrar_saldo(self, cuenta):\n",
    "        print(f\"Cuenta {cuenta.numero} - Saldo: ${cuenta.saldo}\")\n"
   ]
  }
 ],
 "metadata": {},
 "nbformat": 4,
 "nbformat_minor": 5
}