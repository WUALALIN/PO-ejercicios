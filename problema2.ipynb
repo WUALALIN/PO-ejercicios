{
 "cells": [
  {
   "cell_type": "markdown",
   "id": "e64c00c2",
   "metadata": {},
   "source": [
    "# Problema2 Hotel.Py"
   ]
  },
  {
   "cell_type": "code",
   "execution_count": null,
   "id": "5dd0c4b9",
   "metadata": {},
   "outputs": [],
   "source": [
    "\n",
    "class Habitacion:\n",
    "    def __init__(self, numero):\n",
    "        self.numero = numero\n",
    "        self.ocupada = False\n",
    "\n",
    "    def reservar(self):\n",
    "        if not self.ocupada:\n",
    "            self.ocupada = True\n",
    "            return True\n",
    "        return False\n",
    "\n",
    "    def liberar(self):\n",
    "        self.ocupada = False\n",
    "\n",
    "\n",
    "class Cliente:\n",
    "    def __init__(self, nombre):\n",
    "        self.nombre = nombre\n",
    "        self.habitacion = None\n",
    "\n",
    "    def reservar_habitacion(self, habitacion):\n",
    "        if habitacion.reservar():\n",
    "            self.habitacion = habitacion\n",
    "            return f\"Habitación {habitacion.numero} reservada para {self.nombre}\"\n",
    "        return \"No se pudo reservar\"\n"
   ]
  }
 ],
 "metadata": {},
 "nbformat": 4,
 "nbformat_minor": 5
}